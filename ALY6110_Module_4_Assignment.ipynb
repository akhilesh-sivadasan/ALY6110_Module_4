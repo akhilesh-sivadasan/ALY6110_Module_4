{
  "nbformat": 4,
  "nbformat_minor": 0,
  "metadata": {
    "colab": {
      "provenance": []
    },
    "kernelspec": {
      "name": "python3",
      "display_name": "Python 3"
    },
    "language_info": {
      "name": "python"
    }
  },
  "cells": [
    {
      "cell_type": "code",
      "execution_count": 1,
      "metadata": {
        "colab": {
          "base_uri": "https://localhost:8080/"
        },
        "id": "LdfONuLfjmDS",
        "outputId": "1f2fd201-d1e7-41b0-ae40-a5e4f3f23a2e"
      },
      "outputs": [
        {
          "output_type": "stream",
          "name": "stdout",
          "text": [
            "Collecting pyspark\n",
            "  Downloading pyspark-3.5.1.tar.gz (317.0 MB)\n",
            "\u001b[2K     \u001b[90m━━━━━━━━━━━━━━━━━━━━━━━━━━━━━━━━━━━━━━━━\u001b[0m \u001b[32m317.0/317.0 MB\u001b[0m \u001b[31m2.7 MB/s\u001b[0m eta \u001b[36m0:00:00\u001b[0m\n",
            "\u001b[?25h  Preparing metadata (setup.py) ... \u001b[?25l\u001b[?25hdone\n",
            "Requirement already satisfied: py4j==0.10.9.7 in /usr/local/lib/python3.10/dist-packages (from pyspark) (0.10.9.7)\n",
            "Building wheels for collected packages: pyspark\n",
            "  Building wheel for pyspark (setup.py) ... \u001b[?25l\u001b[?25hdone\n",
            "  Created wheel for pyspark: filename=pyspark-3.5.1-py2.py3-none-any.whl size=317488491 sha256=693be5034ad530b754246b0262724f75c389c0227003530739300c20d7a508cc\n",
            "  Stored in directory: /root/.cache/pip/wheels/80/1d/60/2c256ed38dddce2fdd93be545214a63e02fbd8d74fb0b7f3a6\n",
            "Successfully built pyspark\n",
            "Installing collected packages: pyspark\n",
            "Successfully installed pyspark-3.5.1\n"
          ]
        }
      ],
      "source": [
        "pip install pyspark"
      ]
    },
    {
      "cell_type": "code",
      "source": [
        "from pyspark.sql import SparkSession\n",
        "from pyspark.sql.functions import col, mean\n",
        "\n",
        "# Initialize Spark Session\n",
        "spark = SparkSession.builder.appName(\"BostonHousing\").getOrCreate()\n",
        "\n",
        "# 1. Load the dataset from csv file\n",
        "df = spark.read.csv(\"/content/BostonHousing.csv\", sep=\",\", header = True, inferSchema=True)"
      ],
      "metadata": {
        "id": "Gw3hKJwHjrfl"
      },
      "execution_count": 2,
      "outputs": []
    },
    {
      "cell_type": "markdown",
      "source": [
        "## Task 1: Data Overview"
      ],
      "metadata": {
        "id": "fVfAfDPfkaOR"
      }
    },
    {
      "cell_type": "code",
      "source": [
        "# First 5 elements of the dataset\n",
        "df.show(5)"
      ],
      "metadata": {
        "colab": {
          "base_uri": "https://localhost:8080/"
        },
        "id": "I-r8UaARj0F2",
        "outputId": "a69bb8f6-97ad-4f22-c4c1-fe96c07d1e2f"
      },
      "execution_count": 3,
      "outputs": [
        {
          "output_type": "stream",
          "name": "stdout",
          "text": [
            "+-------+----+-----+----+-----+-----+----+------+---+---+-------+------+-----+----+\n",
            "|   crim|  zn|indus|chas|  nox|   rm| age|   dis|rad|tax|ptratio|     b|lstat|medv|\n",
            "+-------+----+-----+----+-----+-----+----+------+---+---+-------+------+-----+----+\n",
            "|0.00632|18.0| 2.31|   0|0.538|6.575|65.2|  4.09|  1|296|   15.3| 396.9| 4.98|24.0|\n",
            "|0.02731| 0.0| 7.07|   0|0.469|6.421|78.9|4.9671|  2|242|   17.8| 396.9| 9.14|21.6|\n",
            "|0.02729| 0.0| 7.07|   0|0.469|7.185|61.1|4.9671|  2|242|   17.8|392.83| 4.03|34.7|\n",
            "|0.03237| 0.0| 2.18|   0|0.458|6.998|45.8|6.0622|  3|222|   18.7|394.63| 2.94|33.4|\n",
            "|0.06905| 0.0| 2.18|   0|0.458|7.147|54.2|6.0622|  3|222|   18.7| 396.9| 5.33|36.2|\n",
            "+-------+----+-----+----+-----+-----+----+------+---+---+-------+------+-----+----+\n",
            "only showing top 5 rows\n",
            "\n"
          ]
        }
      ]
    },
    {
      "cell_type": "code",
      "source": [
        "# Number of observations in the dataset\n",
        "observation_count = df.count()\n",
        "print(f\"Number of observations: {observation_count}\")"
      ],
      "metadata": {
        "colab": {
          "base_uri": "https://localhost:8080/"
        },
        "id": "vpYAAonMkqqL",
        "outputId": "5820278f-9ea2-453b-e013-8bcbcc8b2784"
      },
      "execution_count": 4,
      "outputs": [
        {
          "output_type": "stream",
          "name": "stdout",
          "text": [
            "Number of observations: 506\n"
          ]
        }
      ]
    },
    {
      "cell_type": "markdown",
      "source": [
        "## Task 2: Descriptive Statistics"
      ],
      "metadata": {
        "id": "in9MsYEdk1mZ"
      }
    },
    {
      "cell_type": "code",
      "source": [
        "# Basic statistics for \"medv\" column\n",
        "from pyspark.sql.functions import mean, stddev, min, max\n",
        "\n",
        "medv_stats = df.select(\n",
        "    mean('medv').alias('mean_medv'),\n",
        "    stddev('medv').alias('stddev_medv'),\n",
        "    min('medv').alias('min_medv'),\n",
        "    max('medv').alias('max_medv')\n",
        ").first()\n",
        "\n",
        "print(f\"Mean MEDV: {medv_stats['mean_medv']}\")\n",
        "print(f\"Standard Deviation of MEDV: {medv_stats['stddev_medv']}\")\n",
        "print(f\"Minimum MEDV: {medv_stats['min_medv']}\")\n",
        "print(f\"Maximum MEDV: {medv_stats['max_medv']}\")"
      ],
      "metadata": {
        "colab": {
          "base_uri": "https://localhost:8080/"
        },
        "id": "nCbDATDqlAdA",
        "outputId": "22944d00-621c-4b0c-ec9e-6b33c6793a79"
      },
      "execution_count": 8,
      "outputs": [
        {
          "output_type": "stream",
          "name": "stdout",
          "text": [
            "Mean MEDV: 22.532806324110698\n",
            "Standard Deviation of MEDV: 9.197104087379815\n",
            "Minimum MEDV: 5.0\n",
            "Maximum MEDV: 50.0\n"
          ]
        }
      ]
    },
    {
      "cell_type": "code",
      "source": [
        "# Mean of \"rm\"\n",
        "mean_rm = df.select(mean('rm').alias('mean_rm')).first()['mean_rm']\n",
        "print(f\"Mean RM: {mean_rm}\")"
      ],
      "metadata": {
        "colab": {
          "base_uri": "https://localhost:8080/"
        },
        "id": "0_YaxGt1luko",
        "outputId": "086ec24c-53ad-44d1-dd8a-33f83501747f"
      },
      "execution_count": 9,
      "outputs": [
        {
          "output_type": "stream",
          "name": "stdout",
          "text": [
            "Mean RM: 6.284634387351787\n"
          ]
        }
      ]
    },
    {
      "cell_type": "markdown",
      "source": [
        "## Task 3: Data Exploration"
      ],
      "metadata": {
        "id": "VTjhlQAAl0TV"
      }
    },
    {
      "cell_type": "code",
      "source": [
        "# Property with the highest crime rate\n",
        "highest_crim_property = df.orderBy(col('crim').desc()).first()\n",
        "print(f\"Property with the highest crime rate: {highest_crim_property}\")"
      ],
      "metadata": {
        "colab": {
          "base_uri": "https://localhost:8080/"
        },
        "id": "l4l4qdBTl5Dg",
        "outputId": "82eafd10-d779-449b-ed0e-bfeb0b92d599"
      },
      "execution_count": 10,
      "outputs": [
        {
          "output_type": "stream",
          "name": "stdout",
          "text": [
            "Property with the highest crime rate: Row(crim=88.9762, zn=0.0, indus=18.1, chas=0, nox=0.671, rm=6.968, age=91.9, dis=1.4165, rad=24, tax=666, ptratio=20.2, b=396.9, lstat=17.21, medv=10.4)\n"
          ]
        }
      ]
    },
    {
      "cell_type": "code",
      "source": [
        "# Property with the lowest median home value\n",
        "lowest_medv_property = df.orderBy(col('medv').asc()).first()\n",
        "print(f\"Property with the lowest median home value: {lowest_medv_property}\")"
      ],
      "metadata": {
        "colab": {
          "base_uri": "https://localhost:8080/"
        },
        "id": "KIdCCD8HmC0R",
        "outputId": "20e44342-0581-4f22-bc7c-00a70cb64afc"
      },
      "execution_count": 11,
      "outputs": [
        {
          "output_type": "stream",
          "name": "stdout",
          "text": [
            "Property with the lowest median home value: Row(crim=38.3518, zn=0.0, indus=18.1, chas=0, nox=0.693, rm=5.453, age=100.0, dis=1.4896, rad=24, tax=666, ptratio=20.2, b=396.9, lstat=30.59, medv=5.0)\n"
          ]
        }
      ]
    },
    {
      "cell_type": "markdown",
      "source": [
        "## Task 4: Data Distribution Analysis"
      ],
      "metadata": {
        "id": "tGsalWaPmGc0"
      }
    },
    {
      "cell_type": "code",
      "source": [
        "import matplotlib.pyplot as plt\n",
        "\n",
        "# Converting Spark DataFrame to Pandas for visualization\n",
        "df_pandas = df.toPandas()\n",
        "\n",
        "# Plot histogram for \"age\"\n",
        "plt.hist(df_pandas['age'], bins=20, edgecolor='black')\n",
        "plt.xlabel('Age')\n",
        "plt.ylabel('Frequency')\n",
        "plt.title('Distribution of Property Age')\n",
        "plt.show()"
      ],
      "metadata": {
        "colab": {
          "base_uri": "https://localhost:8080/",
          "height": 472
        },
        "id": "CT3XKE20mMb4",
        "outputId": "fb0d7e78-30b0-4f13-f93d-186a18236881"
      },
      "execution_count": 12,
      "outputs": [
        {
          "output_type": "display_data",
          "data": {
            "text/plain": [
              "<Figure size 640x480 with 1 Axes>"
            ],
            "image/png": "[encoded data removed]"
          },
          "metadata": {}
        }
      ]
    },
    {
      "cell_type": "code",
      "source": [
        "# Percentage of properties with \"chas\" value of 1\n",
        "total_properties = df.count()\n",
        "chas_count = df.filter(col('chas') == 1).count()\n",
        "chas_percentage = (chas_count / total_properties) * 100\n",
        "print(f\"Percentage of properties with CHAS = 1: {chas_percentage}%\")"
      ],
      "metadata": {
        "colab": {
          "base_uri": "https://localhost:8080/"
        },
        "id": "nscMckbUmVCc",
        "outputId": "1527eca4-f165-4bbf-c88a-501c5018856c"
      },
      "execution_count": 13,
      "outputs": [
        {
          "output_type": "stream",
          "name": "stdout",
          "text": [
            "Percentage of properties with CHAS = 1: 6.91699604743083%\n"
          ]
        }
      ]
    },
    {
      "cell_type": "markdown",
      "source": [
        "## Task 5: Correlation Analysis"
      ],
      "metadata": {
        "id": "yzE0eAj2mYhX"
      }
    },
    {
      "cell_type": "code",
      "source": [
        "# Correlation between \"rm\" and \"medv\"\n",
        "corr_rm_medv = df.stat.corr('rm', 'medv')\n",
        "print(f\"Correlation between RM and MEDV: {corr_rm_medv}\")"
      ],
      "metadata": {
        "colab": {
          "base_uri": "https://localhost:8080/"
        },
        "id": "SczsJopRmdWu",
        "outputId": "a487db5b-e31e-49db-9c50-95e0d73baea8"
      },
      "execution_count": 14,
      "outputs": [
        {
          "output_type": "stream",
          "name": "stdout",
          "text": [
            "Correlation between RM and MEDV: 0.6953599470715401\n"
          ]
        }
      ]
    },
    {
      "cell_type": "markdown",
      "source": [
        "The correlation coefficient between RM and MEDV is positive (0.7), indicating a positive relationship between the two variables.\n",
        "This means that as the average number of rooms in a property increases, the median home value also tends to increase and the strength of this relationship is moderate."
      ],
      "metadata": {
        "id": "MQ2u_BfNnb3S"
      }
    },
    {
      "cell_type": "code",
      "source": [
        "# Correlation between \"ptratio\" and \"nox\"\n",
        "corr_ptratio_nox = df.stat.corr('ptratio', 'nox')\n",
        "print(f\"Correlation between PTRATIO and NOX: {corr_ptratio_nox}\")"
      ],
      "metadata": {
        "colab": {
          "base_uri": "https://localhost:8080/"
        },
        "id": "YmkGqBVMn3Il",
        "outputId": "514e0ecc-f35c-49d3-d23f-5d851cb5da87"
      },
      "execution_count": 15,
      "outputs": [
        {
          "output_type": "stream",
          "name": "stdout",
          "text": [
            "Correlation between PTRATIO and NOX: 0.18893267711276893\n"
          ]
        }
      ]
    },
    {
      "cell_type": "markdown",
      "source": [
        "The correlation between PTRATIO and NOX is positve and weak (closer to 0). This suggests that there isn't any meaningful relationship between pupil-teacher ratio and nitrogen oxide concentration."
      ],
      "metadata": {
        "id": "bjTD62RBn8cK"
      }
    },
    {
      "cell_type": "markdown",
      "source": [
        "## Task 6: Advanced Querying"
      ],
      "metadata": {
        "id": "mw0Kl0Smom3U"
      }
    },
    {
      "cell_type": "code",
      "source": [
        "# Register DataFrame as a SQL temporary view\n",
        "df.createOrReplaceTempView(\"boston_housing\")\n",
        "\n",
        "# Top 5 neighborhoods with highest median home values\n",
        "top_5_neighborhoods = spark.sql(\"\"\"\n",
        "    SELECT zn, AVG(medv) AS avg_medv\n",
        "    FROM boston_housing\n",
        "    GROUP BY zn\n",
        "    ORDER BY avg_medv DESC\n",
        "    LIMIT 5\n",
        "\"\"\")\n",
        "top_5_neighborhoods.show()"
      ],
      "metadata": {
        "colab": {
          "base_uri": "https://localhost:8080/"
        },
        "id": "SxlYtAGdowvZ",
        "outputId": "5d411613-dce2-4f04-a246-1304cda52ccd"
      },
      "execution_count": 16,
      "outputs": [
        {
          "output_type": "stream",
          "name": "stdout",
          "text": [
            "+----+-----------------+\n",
            "|  zn|         avg_medv|\n",
            "+----+-----------------+\n",
            "|95.0|           41.575|\n",
            "|90.0|            38.34|\n",
            "|20.0|35.46666666666666|\n",
            "|45.0|33.43333333333333|\n",
            "|82.5|             33.2|\n",
            "+----+-----------------+\n",
            "\n"
          ]
        }
      ]
    },
    {
      "cell_type": "code",
      "source": [
        "# Average property age for neighborhoods with CHAS value of 1 and 0\n",
        "avg_age_chas = spark.sql(\"\"\"\n",
        "    SELECT chas, AVG(age) AS avg_age\n",
        "    FROM boston_housing\n",
        "    GROUP BY chas\n",
        "\"\"\")\n",
        "avg_age_chas.show()"
      ],
      "metadata": {
        "colab": {
          "base_uri": "https://localhost:8080/"
        },
        "id": "uboXTIYJo5In",
        "outputId": "5f78b314-381b-4f1a-d90e-1aecd254bc2f"
      },
      "execution_count": 17,
      "outputs": [
        {
          "output_type": "stream",
          "name": "stdout",
          "text": [
            "+----+-----------------+\n",
            "|chas|          avg_age|\n",
            "+----+-----------------+\n",
            "|   1|77.50000000000001|\n",
            "|   0|67.91167728237794|\n",
            "+----+-----------------+\n",
            "\n"
          ]
        }
      ]
    },
    {
      "cell_type": "markdown",
      "source": [
        "## Task 7: Visualization"
      ],
      "metadata": {
        "id": "_SqJIRcEpCjy"
      }
    },
    {
      "cell_type": "code",
      "source": [
        "# Create a Hive view in Spark that includes the \"age\" and \"medv\" columns.\n",
        "df.select('age', 'medv').createOrReplaceTempView(\"property_age_view\")"
      ],
      "metadata": {
        "id": "PZgVVQKwpHKD"
      },
      "execution_count": 18,
      "outputs": []
    },
    {
      "cell_type": "code",
      "source": [
        "# Plot scatter plot for property age vs median home value\n",
        "plt.scatter(df_pandas['age'], df_pandas['medv'])\n",
        "plt.xlabel('Property Age')\n",
        "plt.ylabel('Median Home Value')\n",
        "plt.title('Scatter Plot of Property Age vs Median Home Value')\n",
        "plt.show()"
      ],
      "metadata": {
        "colab": {
          "base_uri": "https://localhost:8080/",
          "height": 472
        },
        "id": "7BhZ1Q_FpSQg",
        "outputId": "34161e8a-6c2c-4d02-a330-1554a40428ac"
      },
      "execution_count": 19,
      "outputs": [
        {
          "output_type": "display_data",
          "data": {
            "text/plain": [
              "<Figure size 640x480 with 1 Axes>"
            ],
            "image/png": "[encoded data removed]"
          },
          "metadata": {}
        }
      ]
    },
    {
      "cell_type": "markdown",
      "source": [
        "## Task 8: Outliers Detection"
      ],
      "metadata": {
        "id": "rtjTuce0pVa2"
      }
    },
    {
      "cell_type": "code",
      "source": [
        "# Properties with \"crim\" value greater than 10\n",
        "outliers = df.filter(col('crim') > 10)\n",
        "outliers.show()"
      ],
      "metadata": {
        "colab": {
          "base_uri": "https://localhost:8080/"
        },
        "id": "C8O3O9gBpaJ4",
        "outputId": "0d762e21-bb15-442d-ed57-fdc5e37e0de4"
      },
      "execution_count": 20,
      "outputs": [
        {
          "output_type": "stream",
          "name": "stdout",
          "text": [
            "+-------+---+-----+----+-----+-----+-----+------+---+---+-------+------+-----+----+\n",
            "|   crim| zn|indus|chas|  nox|   rm|  age|   dis|rad|tax|ptratio|     b|lstat|medv|\n",
            "+-------+---+-----+----+-----+-----+-----+------+---+---+-------+------+-----+----+\n",
            "|13.5222|0.0| 18.1|   0|0.631|3.863|100.0|1.5106| 24|666|   20.2|131.42|13.33|23.1|\n",
            "|11.1081|0.0| 18.1|   0|0.668|4.906|100.0|1.1742| 24|666|   20.2| 396.9|34.77|13.8|\n",
            "|18.4982|0.0| 18.1|   0|0.668|4.138|100.0| 1.137| 24|666|   20.2| 396.9|37.97|13.8|\n",
            "|19.6091|0.0| 18.1|   0|0.671|7.313| 97.9|1.3163| 24|666|   20.2| 396.9|13.44|15.0|\n",
            "| 15.288|0.0| 18.1|   0|0.671|6.649| 93.3|1.3449| 24|666|   20.2|363.02|23.24|13.9|\n",
            "|23.6482|0.0| 18.1|   0|0.671| 6.38| 96.2|1.3861| 24|666|   20.2| 396.9|23.69|13.1|\n",
            "|17.8667|0.0| 18.1|   0|0.671|6.223|100.0|1.3861| 24|666|   20.2|393.74|21.78|10.2|\n",
            "|88.9762|0.0| 18.1|   0|0.671|6.968| 91.9|1.4165| 24|666|   20.2| 396.9|17.21|10.4|\n",
            "|15.8744|0.0| 18.1|   0|0.671|6.545| 99.1|1.5192| 24|666|   20.2| 396.9|21.08|10.9|\n",
            "|20.0849|0.0| 18.1|   0|  0.7|4.368| 91.2|1.4395| 24|666|   20.2|285.83|30.63| 8.8|\n",
            "|16.8118|0.0| 18.1|   0|  0.7|5.277| 98.1|1.4261| 24|666|   20.2| 396.9|30.81| 7.2|\n",
            "|24.3938|0.0| 18.1|   0|  0.7|4.652|100.0|1.4672| 24|666|   20.2| 396.9|28.28|10.5|\n",
            "|22.5971|0.0| 18.1|   0|  0.7|  5.0| 89.5|1.5184| 24|666|   20.2| 396.9|31.99| 7.4|\n",
            "|14.3337|0.0| 18.1|   0|  0.7| 4.88|100.0|1.5895| 24|666|   20.2|372.92|30.62|10.2|\n",
            "|11.5779|0.0| 18.1|   0|  0.7|5.036| 97.0|  1.77| 24|666|   20.2| 396.9|25.68| 9.7|\n",
            "|13.3598|0.0| 18.1|   0|0.693|5.887| 94.7|1.7821| 24|666|   20.2| 396.9|16.35|12.7|\n",
            "|38.3518|0.0| 18.1|   0|0.693|5.453|100.0|1.4896| 24|666|   20.2| 396.9|30.59| 5.0|\n",
            "|25.0461|0.0| 18.1|   0|0.693|5.987|100.0|1.5888| 24|666|   20.2| 396.9|26.77| 5.6|\n",
            "|14.2362|0.0| 18.1|   0|0.693|6.343|100.0|1.5741| 24|666|   20.2| 396.9|20.32| 7.2|\n",
            "|24.8017|0.0| 18.1|   0|0.693|5.349| 96.0|1.7028| 24|666|   20.2| 396.9|19.77| 8.3|\n",
            "+-------+---+-----+----+-----+-----+-----+------+---+---+-------+------+-----+----+\n",
            "only showing top 20 rows\n",
            "\n"
          ]
        }
      ]
    },
    {
      "cell_type": "markdown",
      "source": [
        "**Significance of Detecting Outliers:**\n",
        "\n",
        "Outliers can significantly affect the results of data analysis. They can skew averages, inflate standard deviations, and affect the performance of machine learning models. Identifying outliers helps in understanding anomalies in the data, ensuring data quality, and making more accurate predictions."
      ],
      "metadata": {
        "id": "TahpsTBOpjes"
      }
    },
    {
      "cell_type": "markdown",
      "source": [
        "## Task 9: Hypothesis Testing"
      ],
      "metadata": {
        "id": "CBVUooNTpzeD"
      }
    },
    {
      "cell_type": "markdown",
      "source": [
        "**Hypothesis:**\n",
        "\n",
        "\n",
        "\n",
        "*   Null Hypothesis (H0): There is no significant\n",
        "impact of the number of rooms (rm) on the median home value (medv).\n",
        "\n",
        "*   Alternative Hypothesis (H1): The number of rooms (rm) has a significant impact on the median home value (medv)."
      ],
      "metadata": {
        "id": "2Ae4aYcip_5G"
      }
    },
    {
      "cell_type": "code",
      "source": [
        "from scipy.stats import ttest_ind\n",
        "\n",
        "# Split data into two groups based on the average number of rooms\n",
        "rm_high = df_pandas[df_pandas['rm'] > df_pandas['rm'].mean()]['medv']\n",
        "rm_low = df_pandas[df_pandas['rm'] <= df_pandas['rm'].mean()]['medv']\n",
        "\n",
        "# Perform t-test\n",
        "t_stat, p_value = ttest_ind(rm_high, rm_low)\n",
        "\n",
        "print(f\"T-statistic: {t_stat}, P-value: {p_value}\")\n",
        "\n",
        "if p_value < 0.05:\n",
        "    print(\"Reject the null hypothesis. There is a significant impact of the number of rooms on median home value.\")\n",
        "else:\n",
        "    print(\"Fail to reject the null hypothesis. There is no significant impact of the number of rooms on median home value.\")"
      ],
      "metadata": {
        "colab": {
          "base_uri": "https://localhost:8080/"
        },
        "id": "MBSqftDXp7l4",
        "outputId": "60cfc598-88b5-41e9-a151-642a032a9383"
      },
      "execution_count": 21,
      "outputs": [
        {
          "output_type": "stream",
          "name": "stdout",
          "text": [
            "T-statistic: 12.330892109480521, P-value: 1.0219268491471897e-30\n",
            "Reject the null hypothesis. There is a significant impact of the number of rooms on median home value.\n"
          ]
        }
      ]
    }
  ]
}